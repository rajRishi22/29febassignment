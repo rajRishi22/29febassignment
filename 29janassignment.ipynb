{
 "cells": [
  {
   "cell_type": "code",
   "execution_count": null,
   "id": "ec7e410a-95c9-46b7-9e85-0cc2a69d4790",
   "metadata": {},
   "outputs": [],
   "source": [
    "1. Guido Van Russom\n",
    "2.Python supports dyanmic Programming\n",
    "3.Yes python is case sensitive on dealing with identifiers\n",
    "4..py is correct extension for python files\n",
    "5.Python Code is Interpreted ie converted to bytes for execution first \n",
    "6. def function_name():\n",
    "    function definition\n",
    "7.Number character or hash key ('#')is used to give single line comments in Python\n",
    "8. import sys\n",
    "print(sys.version)\n",
    "9.Lambda\n",
    "10.Python installer package\n",
    "11.print() , list.append(),sort() ,range(a,b) , random() are some inbuilt functions in Python\n",
    "12. 79 Characters \n",
    "13.Python Contains a lot of libraries and many inbuilt functions that makes it easier to code . We can write much simpler and shorter code in Pyton than other languages like C++ or C.\n",
    "14.Python Manages memory in Form of Heaps.\n",
    "15.We can open python website and install the version for windows from there and add the path variables form env variables .\n",
    "16.Yes , identation is very crucial in Python Language."
   ]
  }
 ],
 "metadata": {
  "kernelspec": {
   "display_name": "Python 3 (ipykernel)",
   "language": "python",
   "name": "python3"
  },
  "language_info": {
   "codemirror_mode": {
    "name": "ipython",
    "version": 3
   },
   "file_extension": ".py",
   "mimetype": "text/x-python",
   "name": "python",
   "nbconvert_exporter": "python",
   "pygments_lexer": "ipython3",
   "version": "3.10.8"
  }
 },
 "nbformat": 4,
 "nbformat_minor": 5
}
